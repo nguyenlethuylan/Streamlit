{
  "nbformat": 4,
  "nbformat_minor": 0,
  "metadata": {
    "colab": {
      "provenance": []
    },
    "kernelspec": {
      "name": "python3",
      "display_name": "Python 3"
    },
    "language_info": {
      "name": "python"
    }
  },
  "cells": [
    {
      "cell_type": "code",
      "execution_count": 27,
      "metadata": {
        "colab": {
          "base_uri": "https://localhost:8080/"
        },
        "id": "glwW-SYsCF--",
        "outputId": "772c96e3-6021-4a39-defd-56bf6d71fea5"
      },
      "outputs": [
        {
          "output_type": "stream",
          "name": "stdout",
          "text": [
            "The sequence 1 is DNA\n",
            "Length of sequence 1: 31\n",
            "The sequence 2 is DNA\n",
            "Length of sequence 2: 47\n"
          ]
        }
      ],
      "source": [
        "sq1 = 'GATGGAACTTGACTACGTAAATTGACTGCAA'\n",
        "sq2 = 'AGCTTTTCATTCTGACTGCAACGGGCAATATGTCTCTGTGTGGATTA'\n",
        "\n",
        "if 'U' in sq1:\n",
        "  print('The sequence 1 is RNA')\n",
        "else:\n",
        "  print('The sequence 1 is DNA')\n",
        "  print(f\"Length of sequence 1: {len(sq1)}\")\n",
        "\n",
        "if 'U' in sq2:\n",
        "  print('The sequence 2 is RNA')\n",
        "else:\n",
        "  print('The sequence 2 is DNA')\n",
        "  print(f\"Length of sequence 2: {len(sq2)}\")\n",
        "\n",
        "\n"
      ]
    },
    {
      "cell_type": "code",
      "source": [
        "def seqAlign(seq1, seq2):\n",
        "    # Check if the sequence is DNA or RNA\n",
        "    len1, len2 = len(seq1), len(seq2)\n",
        "\n",
        "    if 'U' in seq1:\n",
        "        print('The sequence 1 is RNA')\n",
        "    else:\n",
        "        print('The sequence 1 is DNA')\n",
        "    print(f\"Length of sequence 1: {len1}\")\n",
        "\n",
        "    if 'U' in seq2:\n",
        "        print('The sequence 2 is RNA')\n",
        "    else:\n",
        "        print('The sequence 2 is DNA')\n",
        "    print(f\"Length of sequence 2: {len2}\")\n",
        "\n",
        "    # Align the two sequences\n",
        "    maxlength = max(len1, len2)  # Find the longest sequence length\n",
        "    seq1 = seq1.ljust(maxlength, '-')  # Left-align and pad with '-'\n",
        "    seq2 = seq2.ljust(maxlength, '-')\n",
        "\n",
        "    match_count = 0\n",
        "    alignment = []\n",
        "\n",
        "    for i in range(maxlength):\n",
        "        if seq1[i] == seq2[i]:\n",
        "            alignment.append('|')\n",
        "            match_count += 1\n",
        "        else:\n",
        "            alignment.append(' ')\n",
        "\n",
        "    # Print alignment result\n",
        "    print(\"\\nAlignment result:\")\n",
        "    print(seq1)\n",
        "    print(\"\".join(alignment))\n",
        "    print(seq2)\n",
        "    print(f\"\\nTotal matching nucleotides: {match_count}/{maxlength}\")\n",
        "\n",
        "# DNA sequences\n",
        "#sq1 = \"GATGGAACTTGACTACGTAAATTGACTGCAA\"\n",
        "#sq2 = \"AGCTTTTCATTCTGACTGCAACGGGCAATATGTCTCTGTGTGGATTA\"\n",
        "sq1 = input(\"Enter sequence 1: \")\n",
        "sq2 = input(\"Enter sequence 2: \")\n",
        "# Call the function\n",
        "seqAlign(sq1, sq2)\n"
      ],
      "metadata": {
        "colab": {
          "base_uri": "https://localhost:8080/"
        },
        "id": "UqJ6b-62Umz7",
        "outputId": "95b8eff3-36f5-4a8e-bf82-3b05c39de535"
      },
      "execution_count": 32,
      "outputs": [
        {
          "output_type": "stream",
          "name": "stdout",
          "text": [
            "The sequence 1 is DNA\n",
            "Length of sequence 1: 31\n",
            "The sequence 2 is DNA\n",
            "Length of sequence 2: 47\n",
            "\n",
            "Alignment result:\n",
            "GATGGAACTTGACTACGTAAATTGACTGCAA----------------\n",
            "       | |    ||   ||  | |   |                 \n",
            "AGCTTTTCATTCTGACTGCAACGGGCAATATGTCTCTGTGTGGATTA\n",
            "\n",
            "Total matching nucleotides: 9/47\n"
          ]
        }
      ]
    }
  ]
}